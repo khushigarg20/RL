{
  "nbformat": 4,
  "nbformat_minor": 0,
  "metadata": {
    "colab": {
      "provenance": [],
      "authorship_tag": "ABX9TyPpbGCauO2nM63WD/Xg9qto",
      "include_colab_link": true
    },
    "kernelspec": {
      "name": "python3",
      "display_name": "Python 3"
    },
    "language_info": {
      "name": "python"
    }
  },
  "cells": [
    {
      "cell_type": "markdown",
      "metadata": {
        "id": "view-in-github",
        "colab_type": "text"
      },
      "source": [
        "<a href=\"https://colab.research.google.com/github/khushigarg20/RL/blob/main/Policy_value_iteration.ipynb\" target=\"_parent\"><img src=\"https://colab.research.google.com/assets/colab-badge.svg\" alt=\"Open In Colab\"/></a>"
      ]
    },
    {
      "cell_type": "code",
      "execution_count": null,
      "metadata": {
        "id": "UFKYkBOQAEtE"
      },
      "outputs": [],
      "source": [
        "import numpy as np\n",
        "\n",
        "\n",
        "states = [0,1,2,3,4]\n",
        "actions = [0,1]\n",
        "N_STATES = len(states)\n",
        "N_ACTIONS = len(actions)\n",
        "P = np.zeros((N_STATES, N_ACTIONS, N_STATES))\n",
        "R = np.zeros((N_STATES, N_ACTIONS, N_STATES))\n"
      ]
    },
    {
      "cell_type": "code",
      "source": [
        "P [0,0,1] = 1.0\n",
        "P [1,1,2] = 1.0\n",
        "P [2,0,3] = 1.0\n",
        "P [3,1,4] = 1.0\n",
        "P [4,0,4] = 1.0\n",
        "\n",
        "\n",
        "R [0,0,1] = 1\n",
        "R [1,1,2] = 10\n",
        "R [2,0,3] = 100\n",
        "R [3,1,4] = 1000\n",
        "R [4,0,4] = 1.0\n",
        "\n",
        "gamma = 0.75\n",
        "\n",
        "policy = [0 for s in range(N_STATES)]\n",
        "V = np.zeros(N_STATES)\n",
        "\n",
        "print(V)"
      ],
      "metadata": {
        "colab": {
          "base_uri": "https://localhost:8080/"
        },
        "id": "3BRPDhJgBE7V",
        "outputId": "031665a2-30d0-48f1-a435-d2d2658939ef"
      },
      "execution_count": null,
      "outputs": [
        {
          "output_type": "stream",
          "name": "stdout",
          "text": [
            "[0. 0. 0. 0. 0.]\n"
          ]
        }
      ]
    },
    {
      "cell_type": "code",
      "source": [
        "is_value_changed = True\n",
        "iterations = 0\n",
        "while is_value_changed:\n",
        "  is_value_changed = False\n",
        "  iterations += 1\n",
        "\n",
        "for s in range(N_STATES):\n",
        "    V[s] = sum([P[s,policy[s],s1] * (R[s,policy[s],s1] + gamma*V[s1]) for s1 in range(N_STATES)])\n",
        "\n",
        "  for s in range(N_STATES):\n",
        "      q_best = V[s]\n",
        "      for a in range(N_ACTIONS):\n",
        "      q_sa = sum([P[s,a,s1] * (R[s,a,s1] + gamma * V[s1]) for s1 in range(N_STATES)]) \n",
        "      if q_sa > q_best:\n",
        "        print(\"State\", s, \":q_sa\", q_sa, \"q_best\", q_best)\n",
        "        policy[s] = a\n",
        "        q_best = q_sa\n",
        "        is_value_changed = True\n",
        "\n",
        "  print(\"Iterations:\", iterations)\n",
        "\n",
        "print(\"Final policy\")\n",
        "print(policy)\n",
        "print(V)"
      ],
      "metadata": {
        "colab": {
          "base_uri": "https://localhost:8080/",
          "height": 130
        },
        "id": "upDzn3wFED73",
        "outputId": "f484b640-6bab-4c82-b4c8-16869cc981a5"
      },
      "execution_count": null,
      "outputs": [
        {
          "output_type": "error",
          "ename": "IndentationError",
          "evalue": "ignored",
          "traceback": [
            "\u001b[0;36m  File \u001b[0;32m\"<tokenize>\"\u001b[0;36m, line \u001b[0;32m10\u001b[0m\n\u001b[0;31m    for s in range(N_STATES):\u001b[0m\n\u001b[0m    ^\u001b[0m\n\u001b[0;31mIndentationError\u001b[0m\u001b[0;31m:\u001b[0m unindent does not match any outer indentation level\n"
          ]
        }
      ]
    }
  ]
}